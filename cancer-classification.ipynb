{
 "cells": [
  {
   "cell_type": "markdown",
   "metadata": {},
   "source": [
    "# Breast Cancer Diagnosis - Classification"
   ]
  },
  {
   "cell_type": "markdown",
   "metadata": {},
   "source": [
    "## Dataset Information\n",
    "\n",
    "This dataset is called \"Breast cancer wisconsin (diagnostic) dataset\"\n",
    "and it contains 30 features for 569 examples that describe various properties of tumours identified.\n",
    "\n",
    "Some of these features are:\n",
    "\n",
    "- radius (mean of distances from center to points on the perimeter)\n",
    "\n",
    "- texture (standard deviation of gray-scale values)\n",
    "\n",
    "- perimeter\n",
    "\n",
    "- area\n",
    "\n",
    "- smoothness (local variation in radius lengths)\n",
    "\n",
    "- compactness (perimeter^2 / area - 1.0)\n",
    "\n",
    "- concavity (severity of concave portions of the contour)\n",
    "\n",
    "- concave points (number of concave portions of the contour)\n",
    "\n",
    "- symmetry\n",
    "\n",
    "- fractal dimension (“coastline approximation” - 1)\n",
    "\n",
    "## Classification Task\n",
    "\n",
    "We use the given information about a tumour to predict whether it is malignant (0) or benign (1)\n",
    "\n",
    "## The algorithms compared\n",
    "\n",
    "We compare SVM and logistic regression models on the basis of how accurately they predict unseen test data;\n",
    "we also compare how robust the two models are to changes in hyperparameters"
   ]
  },
  {
   "cell_type": "markdown",
   "metadata": {},
   "source": [
    "## Getting the Data"
   ]
  },
  {
   "cell_type": "code",
   "execution_count": 121,
   "metadata": {},
   "outputs": [],
   "source": [
    "from sklearn import datasets\n",
    "import numpy as np"
   ]
  },
  {
   "cell_type": "code",
   "execution_count": 122,
   "metadata": {},
   "outputs": [],
   "source": [
    "cancer_dataset = datasets.load_breast_cancer()"
   ]
  },
  {
   "cell_type": "code",
   "execution_count": 123,
   "metadata": {},
   "outputs": [],
   "source": [
    "target = cancer_dataset.target"
   ]
  },
  {
   "cell_type": "code",
   "execution_count": 124,
   "metadata": {},
   "outputs": [],
   "source": [
    "feature_matrix = cancer_dataset.data"
   ]
  },
  {
   "cell_type": "markdown",
   "metadata": {},
   "source": [
    "## Preprocessing"
   ]
  },
  {
   "cell_type": "markdown",
   "metadata": {},
   "source": [
    "### Separation into training and test sets"
   ]
  },
  {
   "cell_type": "code",
   "execution_count": 125,
   "metadata": {},
   "outputs": [],
   "source": [
    "from sklearn.model_selection import train_test_split\n",
    "X_train, X_test, y_train, y_test = train_test_split(feature_matrix, target, test_size=0.3, random_state=1, stratify=target)"
   ]
  },
  {
   "cell_type": "markdown",
   "metadata": {},
   "source": [
    "### Feature Scaling"
   ]
  },
  {
   "cell_type": "code",
   "execution_count": 126,
   "metadata": {},
   "outputs": [],
   "source": [
    "## features are scaled according to training set's statistical properties\n",
    "from sklearn.preprocessing import StandardScaler\n",
    "sc = StandardScaler()\n",
    "sc.fit(X_train)\n",
    "\n",
    "X_train_std = sc.transform(X_train)\n",
    "X_test_std = sc.transform(X_test)"
   ]
  },
  {
   "cell_type": "markdown",
   "metadata": {},
   "source": [
    "## Training Logistic Regression Model"
   ]
  },
  {
   "cell_type": "code",
   "execution_count": 127,
   "metadata": {},
   "outputs": [],
   "source": [
    "from sklearn.linear_model import LogisticRegression"
   ]
  },
  {
   "cell_type": "code",
   "execution_count": 128,
   "metadata": {},
   "outputs": [],
   "source": [
    "## we use limited-memory Broyden–Fletcher–Goldfarb–Shanno (BFGS) optimization algorithm\n",
    "## we only have 2 classes - so no need to worry about multiclass scheme\n",
    "lr = LogisticRegression(C=10.0, random_state=1, solver='lbfgs', max_iter = 500)"
   ]
  },
  {
   "cell_type": "code",
   "execution_count": 129,
   "metadata": {},
   "outputs": [
    {
     "data": {
      "text/plain": [
       "LogisticRegression(C=10.0, max_iter=500, random_state=1)"
      ]
     },
     "execution_count": 129,
     "metadata": {},
     "output_type": "execute_result"
    }
   ],
   "source": [
    "## training the logistic regression model\n",
    "lr.fit(X_train_std, y_train)"
   ]
  },
  {
   "cell_type": "markdown",
   "metadata": {},
   "source": [
    "## Training SVM Model"
   ]
  },
  {
   "cell_type": "code",
   "execution_count": 130,
   "metadata": {},
   "outputs": [],
   "source": [
    "from sklearn.svm import SVC"
   ]
  },
  {
   "cell_type": "code",
   "execution_count": 131,
   "metadata": {},
   "outputs": [],
   "source": [
    "svm = SVC(kernel='linear', random_state=1, gamma=1.0, C=10.0)"
   ]
  },
  {
   "cell_type": "markdown",
   "metadata": {},
   "source": [
    "##### Note I am using linear kernel for SVM. RBF kernel generally gives lower accuracies"
   ]
  },
  {
   "cell_type": "code",
   "execution_count": 132,
   "metadata": {},
   "outputs": [
    {
     "data": {
      "text/plain": [
       "SVC(C=10.0, gamma=1.0, kernel='linear', random_state=1)"
      ]
     },
     "execution_count": 132,
     "metadata": {},
     "output_type": "execute_result"
    }
   ],
   "source": [
    "svm.fit(X_train_std, y_train)"
   ]
  },
  {
   "cell_type": "markdown",
   "metadata": {},
   "source": [
    "## Comparing the performance of two models "
   ]
  },
  {
   "cell_type": "markdown",
   "metadata": {},
   "source": [
    "### Accuracy of prediction of the test data set"
   ]
  },
  {
   "cell_type": "code",
   "execution_count": 133,
   "metadata": {},
   "outputs": [],
   "source": [
    "from sklearn.metrics import accuracy_score"
   ]
  },
  {
   "cell_type": "code",
   "execution_count": 134,
   "metadata": {},
   "outputs": [
    {
     "name": "stdout",
     "output_type": "stream",
     "text": [
      "Logistic Regression Accuracy: 0.965\n"
     ]
    }
   ],
   "source": [
    "y_pred = lr.predict(X_test_std)\n",
    "print('Logistic Regression Accuracy: %.3f' % accuracy_score(y_test, y_pred))"
   ]
  },
  {
   "cell_type": "code",
   "execution_count": 135,
   "metadata": {},
   "outputs": [
    {
     "name": "stdout",
     "output_type": "stream",
     "text": [
      "SVM Accuracy: 0.971\n"
     ]
    }
   ],
   "source": [
    "y_pred = svm.predict(X_test_std)\n",
    "print('SVM Accuracy: %.3f' % accuracy_score(y_test, y_pred))"
   ]
  },
  {
   "cell_type": "markdown",
   "metadata": {},
   "source": [
    "### Robustness to changes of the hyperparameters"
   ]
  },
  {
   "cell_type": "code",
   "execution_count": 136,
   "metadata": {},
   "outputs": [],
   "source": [
    "from matplotlib import pyplot as plt"
   ]
  },
  {
   "cell_type": "code",
   "execution_count": 137,
   "metadata": {},
   "outputs": [
    {
     "data": {
      "image/png": "[encoded data removed]",
      "text/plain": [
       "<Figure size 432x288 with 1 Axes>"
      ]
     },
     "metadata": {
      "needs_background": "light"
     },
     "output_type": "display_data"
    }
   ],
   "source": [
    "## Looking at changes in accuracy as the C hyperparameter changes\n",
    "\n",
    "accuracy_vals_lr = []\n",
    "accuracy_vals_svm = []\n",
    "C_vals = []\n",
    "\n",
    "for c in range(-5, 5):\n",
    "    lr_example = LogisticRegression(C=10.0**c, random_state=1, solver='lbfgs', max_iter=1000)\n",
    "    svm_example = SVC(kernel='linear', random_state=1, gamma=1.0, C=10.0**c)\n",
    "    \n",
    "    lr_example.fit(X_train_std, y_train)\n",
    "    svm_example.fit(X_train_std, y_train)\n",
    "    \n",
    "    y_pred_lr = lr_example.predict(X_test_std)\n",
    "    y_pred_svm = svm_example.predict(X_test_std)\n",
    "    \n",
    "    accuracy_vals_lr.append(accuracy_score(y_test, y_pred_lr))\n",
    "    accuracy_vals_svm.append(accuracy_score(y_test, y_pred_svm))\n",
    "    \n",
    "    C_vals.append(10.**c)\n",
    "    \n",
    "accuracy_vals_lr = np.array(accuracy_vals_lr)\n",
    "accuracy_vals_svm = np.array(accuracy_vals_svm)\n",
    "C_vals = np.array(C_vals)\n",
    "\n",
    "plt.plot(C_vals, accuracy_vals_lr, label='logistic regression')\n",
    "plt.plot(C_vals, accuracy_vals_svm, label='SVM', linestyle='--')\n",
    "\n",
    "plt.ylabel('prediction accuracy')\n",
    "plt.xlabel('C')\n",
    "plt.legend(loc='lower right')\n",
    "plt.xscale('log')\n",
    "plt.show()"
   ]
  },
  {
   "cell_type": "markdown",
   "metadata": {},
   "source": [
    "## Conclusion\n",
    "\n",
    "When it comes to the accuracy of predictions made about the unseen test data, \n",
    "Logistic Regression and SVM models have accuracies of 96.5% and 97.1% respectively.\n",
    "This shows that accuracy levels of the two models are fairly close when C hyperparameter - that is\n",
    "used to find a balance between high bias and high variance - is 10.0\n",
    "\n",
    "In order to make this analysis more complete, it makes sense that comparing two models at C=10.0\n",
    "isn't enough.\n",
    "Thus, we compare the two models on how robust they are to changes in C hyperparameter.\n",
    "\n",
    "The result we get shows that the two models behave quite similarly. Nevertheless, there are some minor differences:\n",
    "\n",
    "1. Logistic Regression has less fluctuations as C changes\n",
    "\n",
    "2. SVM, generally, has slightly higher accuracy values"
   ]
  }
 ],
 "metadata": {
  "kernelspec": {
   "display_name": "Python 3",
   "language": "python",
   "name": "python3"
  },
  "language_info": {
   "codemirror_mode": {
    "name": "ipython",
    "version": 3
   },
   "file_extension": ".py",
   "mimetype": "text/x-python",
   "name": "python",
   "nbconvert_exporter": "python",
   "pygments_lexer": "ipython3",
   "version": "3.8.3"
  }
 },
 "nbformat": 4,
 "nbformat_minor": 4
}
